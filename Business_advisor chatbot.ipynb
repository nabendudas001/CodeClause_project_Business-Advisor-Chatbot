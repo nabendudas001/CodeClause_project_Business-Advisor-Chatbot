{
  "nbformat": 4,
  "nbformat_minor": 0,
  "metadata": {
    "colab": {
      "provenance": []
    },
    "kernelspec": {
      "name": "python3",
      "display_name": "Python 3"
    },
    "language_info": {
      "name": "python"
    }
  },
  "cells": [
    {
      "cell_type": "markdown",
      "source": [
        "#Name: Nabendu Das\n",
        "#Project Name: Business Advisor Chatbot"
      ],
      "metadata": {
        "id": "9BTnhyBRtqAF"
      }
    },
    {
      "cell_type": "code",
      "source": [
        "pip install nltk"
      ],
      "metadata": {
        "colab": {
          "base_uri": "https://localhost:8080/"
        },
        "id": "kRs-dtLstxx2",
        "outputId": "a470bfa5-6fbe-484a-f7b9-f0ed8719f926"
      },
      "execution_count": 1,
      "outputs": [
        {
          "output_type": "stream",
          "name": "stdout",
          "text": [
            "Requirement already satisfied: nltk in /usr/local/lib/python3.10/dist-packages (3.8.1)\n",
            "Requirement already satisfied: click in /usr/local/lib/python3.10/dist-packages (from nltk) (8.1.4)\n",
            "Requirement already satisfied: joblib in /usr/local/lib/python3.10/dist-packages (from nltk) (1.3.1)\n",
            "Requirement already satisfied: regex>=2021.8.3 in /usr/local/lib/python3.10/dist-packages (from nltk) (2022.10.31)\n",
            "Requirement already satisfied: tqdm in /usr/local/lib/python3.10/dist-packages (from nltk) (4.65.0)\n"
          ]
        }
      ]
    },
    {
      "cell_type": "code",
      "source": [
        "pip install newspaper3k"
      ],
      "metadata": {
        "colab": {
          "base_uri": "https://localhost:8080/"
        },
        "id": "dMQTv9-it-Jh",
        "outputId": "28e76d12-9718-488f-fcc9-de6c030fbf7d"
      },
      "execution_count": 2,
      "outputs": [
        {
          "output_type": "stream",
          "name": "stdout",
          "text": [
            "Collecting newspaper3k\n",
            "  Downloading newspaper3k-0.2.8-py3-none-any.whl (211 kB)\n",
            "\u001b[?25l     \u001b[90m━━━━━━━━━━━━━━━━━━━━━━━━━━━━━━━━━━━━━━━━\u001b[0m \u001b[32m0.0/211.1 kB\u001b[0m \u001b[31m?\u001b[0m eta \u001b[36m-:--:--\u001b[0m\r\u001b[2K     \u001b[91m━━━━━━━━━━━━━━━━━━━━━━\u001b[0m\u001b[91m╸\u001b[0m\u001b[90m━━━━━━━━━━━━━━━━\u001b[0m \u001b[32m122.9/211.1 kB\u001b[0m \u001b[31m3.5 MB/s\u001b[0m eta \u001b[36m0:00:01\u001b[0m\r\u001b[2K     \u001b[90m━━━━━━━━━━━━━━━━━━━━━━━━━━━━━━━━━━━━━━━\u001b[0m \u001b[32m211.1/211.1 kB\u001b[0m \u001b[31m4.3 MB/s\u001b[0m eta \u001b[36m0:00:00\u001b[0m\n",
            "\u001b[?25hRequirement already satisfied: beautifulsoup4>=4.4.1 in /usr/local/lib/python3.10/dist-packages (from newspaper3k) (4.11.2)\n",
            "Requirement already satisfied: Pillow>=3.3.0 in /usr/local/lib/python3.10/dist-packages (from newspaper3k) (8.4.0)\n",
            "Requirement already satisfied: PyYAML>=3.11 in /usr/local/lib/python3.10/dist-packages (from newspaper3k) (6.0)\n",
            "Collecting cssselect>=0.9.2 (from newspaper3k)\n",
            "  Downloading cssselect-1.2.0-py2.py3-none-any.whl (18 kB)\n",
            "Requirement already satisfied: lxml>=3.6.0 in /usr/local/lib/python3.10/dist-packages (from newspaper3k) (4.9.3)\n",
            "Requirement already satisfied: nltk>=3.2.1 in /usr/local/lib/python3.10/dist-packages (from newspaper3k) (3.8.1)\n",
            "Requirement already satisfied: requests>=2.10.0 in /usr/local/lib/python3.10/dist-packages (from newspaper3k) (2.27.1)\n",
            "Collecting feedparser>=5.2.1 (from newspaper3k)\n",
            "  Downloading feedparser-6.0.10-py3-none-any.whl (81 kB)\n",
            "\u001b[2K     \u001b[90m━━━━━━━━━━━━━━━━━━━━━━━━━━━━━━━━━━━━━━━━\u001b[0m \u001b[32m81.1/81.1 kB\u001b[0m \u001b[31m9.9 MB/s\u001b[0m eta \u001b[36m0:00:00\u001b[0m\n",
            "\u001b[?25hCollecting tldextract>=2.0.1 (from newspaper3k)\n",
            "  Downloading tldextract-3.4.4-py3-none-any.whl (93 kB)\n",
            "\u001b[2K     \u001b[90m━━━━━━━━━━━━━━━━━━━━━━━━━━━━━━━━━━━━━━━━\u001b[0m \u001b[32m93.3/93.3 kB\u001b[0m \u001b[31m11.4 MB/s\u001b[0m eta \u001b[36m0:00:00\u001b[0m\n",
            "\u001b[?25hCollecting feedfinder2>=0.0.4 (from newspaper3k)\n",
            "  Downloading feedfinder2-0.0.4.tar.gz (3.3 kB)\n",
            "  Preparing metadata (setup.py) ... \u001b[?25l\u001b[?25hdone\n",
            "Collecting jieba3k>=0.35.1 (from newspaper3k)\n",
            "  Downloading jieba3k-0.35.1.zip (7.4 MB)\n",
            "\u001b[2K     \u001b[90m━━━━━━━━━━━━━━━━━━━━━━━━━━━━━━━━━━━━━━━━\u001b[0m \u001b[32m7.4/7.4 MB\u001b[0m \u001b[31m62.6 MB/s\u001b[0m eta \u001b[36m0:00:00\u001b[0m\n",
            "\u001b[?25h  Preparing metadata (setup.py) ... \u001b[?25l\u001b[?25hdone\n",
            "Requirement already satisfied: python-dateutil>=2.5.3 in /usr/local/lib/python3.10/dist-packages (from newspaper3k) (2.8.2)\n",
            "Collecting tinysegmenter==0.3 (from newspaper3k)\n",
            "  Downloading tinysegmenter-0.3.tar.gz (16 kB)\n",
            "  Preparing metadata (setup.py) ... \u001b[?25l\u001b[?25hdone\n",
            "Requirement already satisfied: soupsieve>1.2 in /usr/local/lib/python3.10/dist-packages (from beautifulsoup4>=4.4.1->newspaper3k) (2.4.1)\n",
            "Requirement already satisfied: six in /usr/local/lib/python3.10/dist-packages (from feedfinder2>=0.0.4->newspaper3k) (1.16.0)\n",
            "Collecting sgmllib3k (from feedparser>=5.2.1->newspaper3k)\n",
            "  Downloading sgmllib3k-1.0.0.tar.gz (5.8 kB)\n",
            "  Preparing metadata (setup.py) ... \u001b[?25l\u001b[?25hdone\n",
            "Requirement already satisfied: click in /usr/local/lib/python3.10/dist-packages (from nltk>=3.2.1->newspaper3k) (8.1.4)\n",
            "Requirement already satisfied: joblib in /usr/local/lib/python3.10/dist-packages (from nltk>=3.2.1->newspaper3k) (1.3.1)\n",
            "Requirement already satisfied: regex>=2021.8.3 in /usr/local/lib/python3.10/dist-packages (from nltk>=3.2.1->newspaper3k) (2022.10.31)\n",
            "Requirement already satisfied: tqdm in /usr/local/lib/python3.10/dist-packages (from nltk>=3.2.1->newspaper3k) (4.65.0)\n",
            "Requirement already satisfied: urllib3<1.27,>=1.21.1 in /usr/local/lib/python3.10/dist-packages (from requests>=2.10.0->newspaper3k) (1.26.16)\n",
            "Requirement already satisfied: certifi>=2017.4.17 in /usr/local/lib/python3.10/dist-packages (from requests>=2.10.0->newspaper3k) (2023.5.7)\n",
            "Requirement already satisfied: charset-normalizer~=2.0.0 in /usr/local/lib/python3.10/dist-packages (from requests>=2.10.0->newspaper3k) (2.0.12)\n",
            "Requirement already satisfied: idna<4,>=2.5 in /usr/local/lib/python3.10/dist-packages (from requests>=2.10.0->newspaper3k) (3.4)\n",
            "Collecting requests-file>=1.4 (from tldextract>=2.0.1->newspaper3k)\n",
            "  Downloading requests_file-1.5.1-py2.py3-none-any.whl (3.7 kB)\n",
            "Requirement already satisfied: filelock>=3.0.8 in /usr/local/lib/python3.10/dist-packages (from tldextract>=2.0.1->newspaper3k) (3.12.2)\n",
            "Building wheels for collected packages: tinysegmenter, feedfinder2, jieba3k, sgmllib3k\n",
            "  Building wheel for tinysegmenter (setup.py) ... \u001b[?25l\u001b[?25hdone\n",
            "  Created wheel for tinysegmenter: filename=tinysegmenter-0.3-py3-none-any.whl size=13541 sha256=296e3991179edc0d39a07ff760266395e8b2dffbcf8ae9743dca7b916fe786ed\n",
            "  Stored in directory: /root/.cache/pip/wheels/c8/d6/6c/384f58df48c00b9a31d638005143b5b3ac62c3d25fb1447f23\n",
            "  Building wheel for feedfinder2 (setup.py) ... \u001b[?25l\u001b[?25hdone\n",
            "  Created wheel for feedfinder2: filename=feedfinder2-0.0.4-py3-none-any.whl size=3341 sha256=09c565e7f9ff2697f9b1ac651de4c92f576ab397c94f21d3bda702c5d7839a0c\n",
            "  Stored in directory: /root/.cache/pip/wheels/97/02/e7/a1ff1760e12bdbaab0ac824fae5c1bc933e41c4ccd6a8f8edb\n",
            "  Building wheel for jieba3k (setup.py) ... \u001b[?25l\u001b[?25hdone\n",
            "  Created wheel for jieba3k: filename=jieba3k-0.35.1-py3-none-any.whl size=7398382 sha256=82fe32eec877461bc1b14970467692a34dac3539f58dad17f23774d0ff9ae53a\n",
            "  Stored in directory: /root/.cache/pip/wheels/7a/c4/0c/12a9a314ecac499456c4c3b2fcc2f635a3b45a39dfbd240299\n",
            "  Building wheel for sgmllib3k (setup.py) ... \u001b[?25l\u001b[?25hdone\n",
            "  Created wheel for sgmllib3k: filename=sgmllib3k-1.0.0-py3-none-any.whl size=6046 sha256=ee8c114f3decfcc7e4bf5f2d9c4d541d9bbba8e664635de503fe03a80b37afee\n",
            "  Stored in directory: /root/.cache/pip/wheels/f0/69/93/a47e9d621be168e9e33c7ce60524393c0b92ae83cf6c6e89c5\n",
            "Successfully built tinysegmenter feedfinder2 jieba3k sgmllib3k\n",
            "Installing collected packages: tinysegmenter, sgmllib3k, jieba3k, feedparser, cssselect, requests-file, feedfinder2, tldextract, newspaper3k\n",
            "Successfully installed cssselect-1.2.0 feedfinder2-0.0.4 feedparser-6.0.10 jieba3k-0.35.1 newspaper3k-0.2.8 requests-file-1.5.1 sgmllib3k-1.0.0 tinysegmenter-0.3 tldextract-3.4.4\n"
          ]
        }
      ]
    },
    {
      "cell_type": "code",
      "source": [
        "#Import Libraries\n",
        "\n",
        "from newspaper import Article\n",
        "import random\n",
        "import string\n",
        "import nltk\n",
        "from sklearn.feature_extraction.text import CountVectorizer\n",
        "from sklearn.metrics.pairwise import cosine_similarity\n",
        "import numpy as np\n",
        "import warnings\n",
        "warnings.filterwarnings('ignore')"
      ],
      "metadata": {
        "id": "fdxaHxcquqNe"
      },
      "execution_count": 5,
      "outputs": []
    },
    {
      "cell_type": "code",
      "source": [
        "nltk.download('punkt', quiet=True)"
      ],
      "metadata": {
        "colab": {
          "base_uri": "https://localhost:8080/"
        },
        "id": "jeHxP3ySvFxi",
        "outputId": "39b16b9f-3ecc-468e-a9be-bf618174e601"
      },
      "execution_count": 6,
      "outputs": [
        {
          "output_type": "execute_result",
          "data": {
            "text/plain": [
              "True"
            ]
          },
          "metadata": {},
          "execution_count": 6
        }
      ]
    },
    {
      "cell_type": "code",
      "source": [
        "#Get the article\n",
        "article= Article('https://www.grantthornton.in/en/services/growth/business-consulting/')\n",
        "article.download()\n",
        "article.parse()\n",
        "article.nlp()\n",
        "corpus= article.text"
      ],
      "metadata": {
        "id": "rbeaaIHQvR6a"
      },
      "execution_count": 7,
      "outputs": []
    },
    {
      "cell_type": "code",
      "source": [
        "#Print the articles text\n",
        "print(corpus)"
      ],
      "metadata": {
        "colab": {
          "base_uri": "https://localhost:8080/"
        },
        "id": "eoaEjjkKwXUo",
        "outputId": "342bc6f4-921d-406d-f002-75e69db75b64"
      },
      "execution_count": 8,
      "outputs": [
        {
          "output_type": "stream",
          "name": "stdout",
          "text": [
            "The country’s eased regulatory scenario and improved ease of doing are increasingly offering opportunities to businesses to grow. We are engaged by family-owned businesses, private equity and venture capital funded businesses, widely-held companies and other organisations to assist them in developing and delivering strategic direction to the business.\n",
            "\n",
            "We offer a bouquet of fully integrated strategic advisory services. Our extensive experience and in-depth knowledge combined with our collaborative approach helps dynamic businesses to grow.\n",
            "\n",
            "Some of our key business consulting services include:\n",
            "\n",
            "Strategy planning and implementation: These services are aimed at assisting the top management of an organisation in deciding the strategic direction and ensuring their functional heads buy into the vision of the organisation. We do this through the following:\n",
            "\n",
            "CEO Room: It includes a strategic workshop customised to the client’s current business, operating model, geographic coverage, financial performance and competition. The workshop effectively leads to the preparation of a strategy map for the client. Once the strategy map is developed, our team facilitates the buy-in of the functional heads of the organisation given that these people ‘deliver’ the top management’s vision. Strategy action plans: Basis the strategy map developed in the workshop, our team collaborates with each functional team over a series of sessions to develop their functional strategy.\n",
            "\n",
            "Market assessments and competition landscaping: We help businesses become more aware of their market, operating landscape, competition and own positioning. Our business consulting services typically include market size (volume and value), growth (historical and projected), demand-supply gap analysis, price point analysis, value chain, competitor analysis, drivers/challenges and trends, relevant models showing the business strengths and positioning, etc.\n",
            "\n",
            "Business planning: We develop comprehensive financial projections through detailed financial models covering a period of 3-5 years based on detailed assumptions and management discussions. The assumptions cover the detailed market scenario, operating model, regulatory aspects, pricing and margins basis competition, supply chain model, fixed and variable expenses etc.\n",
            "\n",
            "Commercial due diligence: Companies preparing for a transaction or currently in an ongoing transaction need an analysis of the market and competition, supply chain and validation of the future projections of the business basis the management model, customer interviews, competition and market assessment. Along with these analysis, we also provide a reasonability assessment on the financial projections by the management along with a detailed report, which can be used by investors and financial institutions to formulate their view on the transaction.\n",
            "\n",
            "Annual operating plan (AOP): Our specialist team assists companies in preparing detailed AOPs and budgets from a bottom-up perspective. It spans across departments and covers complex modelling and validation exercises across levels — plant and machinery level, sales and marketing, HR, IT, etc. It also includes detailed workshops to kick off and set common top-down and bottom-up objectives.\n",
            "\n",
            "These AOPs are backed by detailed bottom-up functional level strategy action plans. We also undertake quarterly monitoring against the AOPs developed.\n",
            "\n",
            "Working capital optimisation: Our team can assess the opportunity of potential savings in working capital by optimising structural and operational processes, directly impacting working capital. This results in medium to long term sustainable savings rather than focusing on tactical levers to meet short-term goals. Key coverage includes:\n"
          ]
        }
      ]
    },
    {
      "cell_type": "code",
      "source": [
        "text=corpus\n",
        "sentence_list = nltk.sent_tokenize(text)"
      ],
      "metadata": {
        "id": "OdcI9y9qwjZ4"
      },
      "execution_count": 9,
      "outputs": []
    },
    {
      "cell_type": "code",
      "source": [
        "print(sentence_list)"
      ],
      "metadata": {
        "colab": {
          "base_uri": "https://localhost:8080/"
        },
        "id": "6nknT6-tw1qv",
        "outputId": "84d87364-8791-4768-dd9f-72a3707c724e"
      },
      "execution_count": 10,
      "outputs": [
        {
          "output_type": "stream",
          "name": "stdout",
          "text": [
            "['The country’s eased regulatory scenario and improved ease of doing are increasingly offering opportunities to businesses to grow.', 'We are engaged by family-owned businesses, private equity and venture capital funded businesses, widely-held companies and other organisations to assist them in developing and delivering strategic direction to the business.', 'We offer a bouquet of fully integrated strategic advisory services.', 'Our extensive experience and in-depth knowledge combined with our collaborative approach helps dynamic businesses to grow.', 'Some of our key business consulting services include:\\n\\nStrategy planning and implementation: These services are aimed at assisting the top management of an organisation in deciding the strategic direction and ensuring their functional heads buy into the vision of the organisation.', 'We do this through the following:\\n\\nCEO Room: It includes a strategic workshop customised to the client’s current business, operating model, geographic coverage, financial performance and competition.', 'The workshop effectively leads to the preparation of a strategy map for the client.', 'Once the strategy map is developed, our team facilitates the buy-in of the functional heads of the organisation given that these people ‘deliver’ the top management’s vision.', 'Strategy action plans: Basis the strategy map developed in the workshop, our team collaborates with each functional team over a series of sessions to develop their functional strategy.', 'Market assessments and competition landscaping: We help businesses become more aware of their market, operating landscape, competition and own positioning.', 'Our business consulting services typically include market size (volume and value), growth (historical and projected), demand-supply gap analysis, price point analysis, value chain, competitor analysis, drivers/challenges and trends, relevant models showing the business strengths and positioning, etc.', 'Business planning: We develop comprehensive financial projections through detailed financial models covering a period of 3-5 years based on detailed assumptions and management discussions.', 'The assumptions cover the detailed market scenario, operating model, regulatory aspects, pricing and margins basis competition, supply chain model, fixed and variable expenses etc.', 'Commercial due diligence: Companies preparing for a transaction or currently in an ongoing transaction need an analysis of the market and competition, supply chain and validation of the future projections of the business basis the management model, customer interviews, competition and market assessment.', 'Along with these analysis, we also provide a reasonability assessment on the financial projections by the management along with a detailed report, which can be used by investors and financial institutions to formulate their view on the transaction.', 'Annual operating plan (AOP): Our specialist team assists companies in preparing detailed AOPs and budgets from a bottom-up perspective.', 'It spans across departments and covers complex modelling and validation exercises across levels — plant and machinery level, sales and marketing, HR, IT, etc.', 'It also includes detailed workshops to kick off and set common top-down and bottom-up objectives.', 'These AOPs are backed by detailed bottom-up functional level strategy action plans.', 'We also undertake quarterly monitoring against the AOPs developed.', 'Working capital optimisation: Our team can assess the opportunity of potential savings in working capital by optimising structural and operational processes, directly impacting working capital.', 'This results in medium to long term sustainable savings rather than focusing on tactical levers to meet short-term goals.', 'Key coverage includes:']\n"
          ]
        }
      ]
    },
    {
      "cell_type": "code",
      "source": [
        "# A function to return a simple greeting response\n",
        "def greeting_response(text):\n",
        "  text = text.lower()\n",
        "  bot_greetings = ['howdy','hi','hey','hello','hola']\n",
        "  users_greetings = ['hi','hey','hello','hola','greetings','nice']\n",
        "  for word in text.split():\n",
        "    for word in users_greetings:\n",
        "      return random.choice(bot_greetings)"
      ],
      "metadata": {
        "id": "qPJl-55YxQ_T"
      },
      "execution_count": 11,
      "outputs": []
    },
    {
      "cell_type": "code",
      "source": [
        "def index_sort(list_var):\n",
        "  length=len(list_var)\n",
        "  list_index = list(range(0,length))\n",
        "\n",
        "  x= list_var\n",
        "  for i in range(length):\n",
        "    for j in range(length):\n",
        "      if x[list_index[i]] > x[list_index[j]]:\n",
        "        temp = list_index[i]\n",
        "        list_index[i] = list_index[j]\n",
        "        list_index[j] = temp\n",
        "  return list_index"
      ],
      "metadata": {
        "id": "yx9rvB3-yr3L"
      },
      "execution_count": 12,
      "outputs": []
    },
    {
      "cell_type": "code",
      "source": [
        "#Create the bots response\n",
        "def bot_response(user_input):\n",
        "  user_input = user_input. lower ()\n",
        "  sentence_list.append(user_input)\n",
        "  bot_response = ''\n",
        "  cm = CounterVectorizer().fit_transform(sentence_list)\n",
        "  similarity_scores = cosine_similarity (cm[-1], cm)\n",
        "  similarity_scores_list = similarity_scores.flatten()\n",
        "  index = index_sort (similarity_scores_list)\n",
        "  index = index[1:]\n",
        "  response_flag = 0\n",
        "\n",
        "  j = 0\n",
        "  for i in range(len(index)):\n",
        "    if similarity_scores_list[index[1]]> 0.0:\n",
        "      bot_response = bot_response+'   '+sentence_list[index[i]]\n",
        "      response_flag = 1\n",
        "      j = j+1\n",
        "    if j > 2:\n",
        "      break\n",
        "\n",
        "  if response_flag == 0:\n",
        "    bot_response = bot_response+'   '+\"I aplogize, I don't understand anything\"\n",
        "  sentence_list.remove(user_input)\n",
        "\n",
        "  return bot_response"
      ],
      "metadata": {
        "id": "nOQudhh4z37g"
      },
      "execution_count": 15,
      "outputs": []
    },
    {
      "cell_type": "code",
      "source": [
        "# Start the chat\n",
        "print('CodeClause Bot: I am your business advisor for short. I will answe r your queries about our services. If you want to exist, then type bye.')\n",
        "\n",
        "exit_list = ['exist', 'see you later', 'bye', 'quit', 'break']\n",
        "\n",
        "while(True):\n",
        "  user_input = input()\n",
        "  if user_input.lower() in exit_list:\n",
        "    print('CodeClause Bot: Chat with you later !')\n",
        "    break\n",
        "  else:\n",
        "    if greeting_response(user_input) != None:\n",
        "      print('CodeClause Bot: '+greeting_response(user_input))\n",
        "    else:\n",
        "      print('CodeClause Bot: '+bot_response(user_input))"
      ],
      "metadata": {
        "colab": {
          "base_uri": "https://localhost:8080/"
        },
        "id": "jmdCErVB1v0i",
        "outputId": "fe7c5577-ad12-467f-9884-9022fdc236cb"
      },
      "execution_count": 18,
      "outputs": [
        {
          "output_type": "stream",
          "name": "stdout",
          "text": [
            "CodeClause Bot: I am your business advisor for short. I will answe r your queries about our services. If you want to exist, then type bye.\n",
            "hi\n",
            "CodeClause Bot: hey\n",
            "business\n",
            "CodeClause Bot: hi\n",
            "break\n",
            "CodeClause Bot: Chat with you later !\n"
          ]
        }
      ]
    }
  ]
}